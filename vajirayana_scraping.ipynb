{
  "nbformat": 4,
  "nbformat_minor": 0,
  "metadata": {
    "colab": {
      "provenance": []
    },
    "kernelspec": {
      "name": "python3",
      "display_name": "Python 3"
    },
    "language_info": {
      "name": "python"
    }
  },
  "cells": [
    {
      "cell_type": "markdown",
      "source": [
        "# Libraly"
      ],
      "metadata": {
        "id": "1XGoQejpr6rA"
      }
    },
    {
      "cell_type": "code",
      "execution_count": null,
      "metadata": {
        "id": "NmgEcSCJrpBt"
      },
      "outputs": [],
      "source": [
        "from bs4 import BeautifulSoup as bs\n",
        "import requests\n",
        "import pandas as pd"
      ]
    },
    {
      "cell_type": "markdown",
      "source": [
        "# Functions "
      ],
      "metadata": {
        "id": "NR5-_JmSueVu"
      }
    },
    {
      "cell_type": "code",
      "source": [
        "# get data\n",
        "def soup_get(main_url, tag='table', klong_class='text2jax'):\n",
        "  data = requests.get(main_url).content\n",
        "  soup = bs(data, 'html.parser')\n",
        "  klong_data = soup.find_all(tag, { 'class' : klong_class})\n",
        "  return klong_data"
      ],
      "metadata": {
        "id": "rDsyXSC_ubsv"
      },
      "execution_count": null,
      "outputs": []
    },
    {
      "cell_type": "code",
      "source": [
        "# append to wak \n",
        "def append_wak(klong):\n",
        "  first_wak = []\n",
        "  second_wak = []\n",
        "  third_wak = []\n",
        "  fourth_wak = []\n",
        "  fifth_wak = []\n",
        "  sixth_wak = []\n",
        "  seventh_wak = []\n",
        "  eighth_wak = []\n",
        "  for i in range(len(klong)):\n",
        "      if i % 8 == 0:\n",
        "          first_wak.append(klong[i])\n",
        "      elif i % 8 == 1:\n",
        "          second_wak.append(klong[i])\n",
        "      elif i % 8 == 2:\n",
        "          third_wak.append(klong[i])\n",
        "      elif i % 8 == 3:\n",
        "          fourth_wak.append(klong[i])\n",
        "      elif i % 8 == 4:\n",
        "          fifth_wak.append(klong[i])\n",
        "      elif i % 8 == 5:\n",
        "          sixth_wak.append(klong[i])\n",
        "      elif i % 8 == 6:\n",
        "          seventh_wak.append(klong[i])\n",
        "      else:\n",
        "          eighth_wak.append(klong[i])\n",
        "\n",
        "  return [first_wak, second_wak, third_wak, fourth_wak, fifth_wak, sixth_wak, seventh_wak, eighth_wak]"
      ],
      "metadata": {
        "id": "RDVNWvTXseE9"
      },
      "execution_count": null,
      "outputs": []
    },
    {
      "cell_type": "code",
      "source": [
        "# wak list to csv\n",
        "def tocsv(title, klong):\n",
        "  df = pd.DataFrame(columns=['first_wak', 'second_wak', 'third_wak', 'fourth_wak', 'fifth_wak', 'sixth_wak', 'seventh_wak', 'eighth_wak'])\n",
        "  df['first_wak'] = klong[0]\n",
        "  df['second_wak'] = klong[1]\n",
        "  df['third_wak'] = klong[2]\n",
        "  df['fourth_wak'] = klong[3]\n",
        "  df['fifth_wak'] = klong[4]\n",
        "  df['sixth_wak'] = klong[5]\n",
        "  df['seventh_wak'] = klong[6]\n",
        "  df['eighth_wak'] = klong[7]\n",
        "  df.to_csv(title+'.csv', index=False)"
      ],
      "metadata": {
        "id": "3MCCk4NvtCUU"
      },
      "execution_count": null,
      "outputs": []
    },
    {
      "cell_type": "markdown",
      "source": [
        "# โคลงนิราศหริภุญชัย"
      ],
      "metadata": {
        "id": "7xG9rkKPr_Js"
      }
    },
    {
      "cell_type": "code",
      "source": [
        "# clean data \n",
        "def clean_haripunchai(klong_data):\n",
        "  splitted_klong = []\n",
        "  removed_none = []\n",
        "  for klong in klong_data:\n",
        "    splitted_klong.append(klong.text.split('\\n'))\n",
        "  length = len(splitted_klong)\n",
        "  for i in range(length):\n",
        "    removed = list(filter(None, splitted_klong[i]))\n",
        "    removed_none.extend(removed)\n",
        "  return removed_none "
      ],
      "metadata": {
        "id": "pisY4ItcsWi9"
      },
      "execution_count": null,
      "outputs": []
    },
    {
      "cell_type": "code",
      "source": [
        "# main \n",
        "main_url = 'https://vajirayana.org/%E0%B9%82%E0%B8%84%E0%B8%A5%E0%B8%87%E0%B8%99%E0%B8%B4%E0%B8%A3%E0%B8%B2%E0%B8%A8%E0%B8%AB%E0%B8%A3%E0%B8%B4%E0%B8%A0%E0%B8%B8%E0%B8%8D%E0%B8%8A%E0%B8%B1%E0%B8%A2/%E0%B9%82%E0%B8%84%E0%B8%A5%E0%B8%87%E0%B8%99%E0%B8%B4%E0%B8%A3%E0%B8%B2%E0%B8%A8%E0%B8%AB%E0%B8%A3%E0%B8%B4%E0%B8%A0%E0%B8%B8%E0%B8%8D%E0%B8%8A%E0%B8%B1%E0%B8%A2'\n",
        "klong_data = soup_get(main_url, klong_class='nlt')\n",
        "cleaned = clean_haripunchai(klong_data)\n",
        "klong_wak_list =  append_wak(cleaned)\n",
        "tocsv('Klong_haripunchai', klong_wak_list)\n"
      ],
      "metadata": {
        "id": "QYkFmH_1r6BJ"
      },
      "execution_count": null,
      "outputs": []
    },
    {
      "cell_type": "markdown",
      "source": [
        "# โคลงโลกนิติ"
      ],
      "metadata": {
        "id": "z79PRgiQwqUs"
      }
    },
    {
      "cell_type": "code",
      "source": [
        "# clean \n",
        "def clean_loknit(klong_data):\n",
        "  not_clean = []\n",
        "  for data in klong_data:\n",
        "    not_clean.append(data.text)\n",
        "  del not_clean[0:16]\n",
        "\n",
        "  only_klong_data_1 = []\n",
        "  not_clean = list(filter(lambda a: a != '\\n\\n\\n', not_clean))\n",
        "  for i in range(len(not_clean)):\n",
        "    if i == 515:\n",
        "        break\n",
        "    if i % 5 != 0 :\n",
        "        only_klong_data_1.append(not_clean[i])\n",
        "\n",
        "  not_clean = not_clean[516:]\n",
        "  only_klong_data_2 = []\n",
        "  for i in range(len(not_clean)):\n",
        "    if i == 500:\n",
        "        break\n",
        "    if i % 5 != 0 :\n",
        "        only_klong_data_2.append(not_clean[i])\n",
        "\n",
        "  not_clean = not_clean[501:]\n",
        "  only_klong_data_3 = []\n",
        "  for i in range(len(not_clean)):\n",
        "    if i == 401:\n",
        "        break\n",
        "    if i % 5 != 0 :\n",
        "        only_klong_data_3.append(not_clean[i])\n",
        "    \n",
        "  not_clean = not_clean[400:]\n",
        "  only_klong_data_4 = []\n",
        "  for i in range(len(not_clean)):\n",
        "    if i == 101:\n",
        "        break\n",
        "    if i % 5 != 0 :\n",
        "        only_klong_data_4.append(not_clean[i])\n",
        "\n",
        "  not_clean = not_clean[101:]\n",
        "  only_klong_data_5 = []\n",
        "  for i in range(len(not_clean)):\n",
        "    if i == 501:\n",
        "        break\n",
        "    if i % 5 != 0 :\n",
        "        only_klong_data_5.append(not_clean[i])\n",
        "\n",
        "  not_clean = not_clean[501:]\n",
        "  only_klong_data_6 = []\n",
        "  for i in range(len(not_clean)):\n",
        "    if i == 176:\n",
        "        break\n",
        "    if i % 5 != 0 :\n",
        "        only_klong_data_6.append(not_clean[i])\n",
        "    \n",
        "  not_clean = not_clean[176:201]\n",
        "  only_klong_data_7 = []\n",
        "  for i in range(len(not_clean)):\n",
        "    if i % 5 != 0 :\n",
        "        only_klong_data_7.append(not_clean[i])\n",
        "      \n",
        "  all_klong = []\n",
        "  all_klong.extend(only_klong_data_1)\n",
        "  all_klong.extend(only_klong_data_2)\n",
        "  all_klong.extend(only_klong_data_3)\n",
        "  all_klong.extend(only_klong_data_4)\n",
        "  all_klong.extend(only_klong_data_5)\n",
        "  all_klong.extend(only_klong_data_6)\n",
        "  all_klong.extend(only_klong_data_7)\n",
        "\n",
        "  cleaned = []\n",
        "  for baht in all_klong:\n",
        "    baht = baht.replace('๏ ', '')\n",
        "    baht = baht.replace(' ฯ', '')\n",
        "    baht = baht.split('\\n')\n",
        "    cleaned.extend(baht)\n",
        "  cleaned = list(filter(None, cleaned))\n",
        "  \n",
        "  return cleaned"
      ],
      "metadata": {
        "id": "kqSx_LssxcCj"
      },
      "execution_count": null,
      "outputs": []
    },
    {
      "cell_type": "code",
      "source": [
        "# main \n",
        "main_url = 'https://www.clongklon.com/2009/08/blog-post_5193.html?m=1'\n",
        "klong_data = soup_get(main_url, 'tr', '')\n",
        "cleaned = clean_loknit(klong_data)\n",
        "klong_wak_list =  append_wak(cleaned)\n",
        "tocsv('klong_loknit', klong_wak_list)"
      ],
      "metadata": {
        "id": "hfXatCv3wy-q"
      },
      "execution_count": null,
      "outputs": []
    },
    {
      "cell_type": "markdown",
      "source": [
        "# นิราศวัดรวก"
      ],
      "metadata": {
        "id": "jUdtTk4I2GUC"
      }
    },
    {
      "cell_type": "code",
      "source": [
        "def clean_wadruak(klong):\n",
        "  klong_all_data = []\n",
        "  for chap in klong:\n",
        "    klong_data = chap.text.split(' ', 1)\n",
        "    klong_data = klong_data[1].split('\\n')\n",
        "    klong_data = list(filter(None, klong_data))\n",
        "    for wak in klong_data:\n",
        "        wak_data = wak.replace(' ฯ', '')\n",
        "        klong_all_data.append(wak_data)\n",
        "  klong_all_data = klong_all_data[:1720]\n",
        "  return klong_all_data"
      ],
      "metadata": {
        "id": "BvsnC-t44d08"
      },
      "execution_count": null,
      "outputs": []
    },
    {
      "cell_type": "code",
      "source": [
        "# main \n",
        "main_url = 'https://vajirayana.org/%E0%B8%9B%E0%B8%A3%E0%B8%B0%E0%B8%8A%E0%B8%B8%E0%B8%A1%E0%B8%A7%E0%B8%A3%E0%B8%A3%E0%B8%93%E0%B8%84%E0%B8%94%E0%B8%B5%E0%B9%80%E0%B8%A3%E0%B8%B7%E0%B9%88%E0%B8%AD%E0%B8%87-%E0%B8%9E%E0%B8%A3%E0%B8%B0%E0%B8%9E%E0%B8%B8%E0%B8%97%E0%B8%98%E0%B8%9A%E0%B8%B2%E0%B8%97/%E0%B9%82%E0%B8%84%E0%B8%A5%E0%B8%87%E0%B8%99%E0%B8%B4%E0%B8%A3%E0%B8%B2%E0%B8%A8%E0%B8%A7%E0%B8%B1%E0%B8%94%E0%B8%A3%E0%B8%A7%E0%B8%81'\n",
        "klong_data = soup_get(main_url, klong_class='')\n",
        "cleaned = clean_wadruak(klong_data)\n",
        "klong_wak_list =  append_wak(cleaned)\n",
        "tocsv('klong_wadruak', klong_wak_list)"
      ],
      "metadata": {
        "id": "d-WYzyz54GzM"
      },
      "execution_count": null,
      "outputs": []
    },
    {
      "cell_type": "markdown",
      "source": [
        "# นิราศสุพรรณ"
      ],
      "metadata": {
        "id": "2pnllgWk40Be"
      }
    },
    {
      "cell_type": "code",
      "source": [
        "def clean_supan(klong):\n",
        "  klong_data = []\n",
        "  not_cleaned = []\n",
        "  cleaned = []\n",
        "  remove = ['-','๏ ',' ฯ', '[', ']', '๑', '๒', '๓', '๔', '๕', '๖', '๗', '๘', '๙']\n",
        "  for bot in klong:\n",
        "    bot = bot.text.split('ฯ')\n",
        "    del bot[-1]\n",
        "    klong_data.extend(bot)\n",
        "  for bot in klong_data:\n",
        "    for char in remove:\n",
        "        bot = bot.replace(char, '')\n",
        "    not_cleaned.append(bot)\n",
        "  for bot in not_cleaned:\n",
        "    bot = bot.replace('๏','')\n",
        "    bot = bot.replace(' ','')\n",
        "    bot = bot.split('\\n')\n",
        "    cleaned.extend(bot)\n",
        "  return cleaned"
      ],
      "metadata": {
        "id": "ve35aQ7656n4"
      },
      "execution_count": null,
      "outputs": []
    },
    {
      "cell_type": "code",
      "source": [
        "# main \n",
        "main_url = 'https://vajirayana.org/%E0%B9%82%E0%B8%84%E0%B8%A5%E0%B8%87%E0%B8%99%E0%B8%B4%E0%B8%A3%E0%B8%B2%E0%B8%A8%E0%B8%AA%E0%B8%B8%E0%B8%9E%E0%B8%A3%E0%B8%A3%E0%B8%93-%E0%B8%82%E0%B8%AD%E0%B8%87%E0%B8%AA%E0%B8%B8%E0%B8%99%E0%B8%97%E0%B8%A3%E0%B8%A0%E0%B8%B9%E0%B9%88-%E0%B8%89%E0%B8%9A%E0%B8%B1%E0%B8%9A%E0%B8%AA%E0%B8%A1%E0%B8%9A%E0%B8%B9%E0%B8%A3%E0%B8%93%E0%B9%8C/%E0%B9%82%E0%B8%84%E0%B8%A5%E0%B8%87%E0%B8%99%E0%B8%B4%E0%B8%A3%E0%B8%B2%E0%B8%A8%E0%B8%AA%E0%B8%B8%E0%B8%9E%E0%B8%A3%E0%B8%A3%E0%B8%93'\n",
        "klong_data = soup_get(main_url, klong_class='')\n",
        "cleaned = clean_supan(klong_data)\n",
        "klong_wak_list =  append_wak(cleaned)\n",
        "tocsv('klong_supan', klong_wak_list)"
      ],
      "metadata": {
        "id": "ItGSlApd8MzA"
      },
      "execution_count": null,
      "outputs": []
    },
    {
      "cell_type": "markdown",
      "source": [
        "# โคลงนิราศเจ้าฟ้าอภัย"
      ],
      "metadata": {
        "id": "VwNiMMLj6rTv"
      }
    },
    {
      "cell_type": "code",
      "source": [
        "def clean_jaofahapai(klong):\n",
        "  all_klong = klong.find_all('td', { 'class' : 'one-line-on-mobile'})\n",
        "  new_all_klong = []\n",
        "  remove = ['-','๏ ',' ฯ', '[', ']', '๑', '๒', '๓', '๔', '๕', '๖', '๗', '๘', '๙']\n",
        "  for klong in all_klong:\n",
        "    edited_wak = klong.text\n",
        "    for char in remove:\n",
        "        edited_wak = edited_wak.replace(char, '')\n",
        "    new_all_klong.append(edited_wak) \n",
        "  return new_all_klong"
      ],
      "metadata": {
        "id": "j34bN96x6_8z"
      },
      "execution_count": null,
      "outputs": []
    },
    {
      "cell_type": "code",
      "source": [
        "# main \n",
        "main_url = 'https://vajirayana.org/%E0%B8%9B%E0%B8%A3%E0%B8%B0%E0%B8%8A%E0%B8%B8%E0%B8%A1%E0%B8%A7%E0%B8%A3%E0%B8%A3%E0%B8%93%E0%B8%84%E0%B8%94%E0%B8%B5%E0%B9%80%E0%B8%A3%E0%B8%B7%E0%B9%88%E0%B8%AD%E0%B8%87-%E0%B8%9E%E0%B8%A3%E0%B8%B0%E0%B8%9E%E0%B8%B8%E0%B8%97%E0%B8%98%E0%B8%9A%E0%B8%B2%E0%B8%97/%E0%B9%82%E0%B8%84%E0%B8%A5%E0%B8%87%E0%B8%99%E0%B8%B4%E0%B8%A3%E0%B8%B2%E0%B8%A8%E0%B9%80%E0%B8%88%E0%B9%89%E0%B8%B2%E0%B8%9F%E0%B9%89%E0%B8%B2%E0%B8%AD%E0%B8%A0%E0%B8%B1%E0%B8%A2'\n",
        "data = requests.get(main_url).content\n",
        "soup = bs(data, 'html.parser')\n",
        "klong = soup.find('div', { 'class' : 'tex2jax'})\n",
        "cleaned = clean_jaofahapai(klong)\n",
        "klong_wak_list =  append_wak(cleaned)\n",
        "tocsv('klong_jaofahapai', klong_wak_list)"
      ],
      "metadata": {
        "id": "xLLwLFnE5ESO"
      },
      "execution_count": null,
      "outputs": []
    }
  ]
}